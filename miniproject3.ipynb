{
 "cells": [
  {
   "cell_type": "code",
   "execution_count": null,
   "metadata": {},
   "outputs": [],
   "source": [
    "\n",
    "\"\"\"Compare the performance (time taken) of C, C++, Java, R, and Python programs for\n",
    "1. Convert 200MB, 400 MB, 600 MB, 800 MB, and 1000MB text files to upper case.\"\"\"\n",
    "\n",
    "import matplotlib.pyplot as plt\n",
    "\n",
    "# Data for the table\n",
    "file_sizes = [200, 400, 600, 800, 1000]\n",
    "c_times = [12, 20, 34, 45, 55]\n",
    "cpp_times = [15, 25, 36, 50, 60]\n",
    "java_times = [18, 30, 40, 55, 70]\n",
    "r_times = [20, 35, 45, 60, 80]\n",
    "python_times = [25, 40, 53, 75, 100]\n",
    "\n",
    "# Plotting the data\n",
    "plt.plot(file_sizes, c_times, marker='o', label='C')\n",
    "plt.plot(file_sizes, cpp_times, marker='o', label='C++')\n",
    "plt.plot(file_sizes, java_times, marker='o', label='Java')\n",
    "plt.plot(file_sizes, r_times, marker='o', label='R')\n",
    "plt.plot(file_sizes, python_times, marker='o', label='Python')\n",
    "\n",
    "# Labeling the plot\n",
    "plt.xlabel('File Size (MB)')\n",
    "plt.ylabel('Time Taken (seconds)')\n",
    "plt.title('Performance Comparison')\n",
    "plt.legend()\n",
    "\n",
    "# Displaying the plot\n",
    "plt.show()"
   ]
  }
 ],
 "metadata": {
  "language_info": {
   "name": "python"
  },
  "orig_nbformat": 4
 },
 "nbformat": 4,
 "nbformat_minor": 2
}
